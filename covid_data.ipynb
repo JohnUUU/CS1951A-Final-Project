{
 "metadata": {
  "language_info": {
   "codemirror_mode": {
    "name": "ipython",
    "version": 3
   },
   "file_extension": ".py",
   "mimetype": "text/x-python",
   "name": "python",
   "nbconvert_exporter": "python",
   "pygments_lexer": "ipython3",
   "version": "3.8.5"
  },
  "orig_nbformat": 4,
  "kernelspec": {
   "name": "python3",
   "display_name": "Python 3.8.5 64-bit ('base': conda)"
  },
  "interpreter": {
   "hash": "f472912e6193cb824144a785e0f99b368df16f3bf03d4f044157ca2eda6584b9"
  }
 },
 "nbformat": 4,
 "nbformat_minor": 2,
 "cells": [
  {
   "cell_type": "code",
   "execution_count": 51,
   "metadata": {},
   "outputs": [
    {
     "output_type": "execute_result",
     "data": {
      "text/plain": [
       "'\\nCovid Cases:\\n    Get csv from file\\n    Use Pandas get transpose of csv\\n    Clean data\\n    Fix headers\\n    New dataframe where a new row for each week col\\n    Export to sql\\n'"
      ]
     },
     "metadata": {},
     "execution_count": 51
    }
   ],
   "source": [
    "import pandas as pd\n",
    "\n",
    "#Goals\n",
    "\"\"\"\n",
    "Covid Cases:\n",
    "    Get csv from file\n",
    "    Use Pandas get transpose of csv\n",
    "    Clean data\n",
    "    Fix headers\n",
    "    New dataframe where a new row for each week col\n",
    "    Export to sql\n",
    "\"\"\""
   ]
  },
  {
   "cell_type": "code",
   "execution_count": 67,
   "metadata": {},
   "outputs": [
    {
     "output_type": "stream",
     "name": "stdout",
     "text": [
      "Index(['week_ending', 'CASERATE_CITY', 'CASERATE_BX', 'CASERATE_BK',\n       'CASERATE_MN', 'CASERATE_QN', 'CASERATE_SI', 'CASERATE_10001',\n       'CASERATE_10002', 'CASERATE_10003',\n       ...\n       'CASERATE_11432', 'CASERATE_11433', 'CASERATE_11434', 'CASERATE_11435',\n       'CASERATE_11436', 'CASERATE_11691', 'CASERATE_11692', 'CASERATE_11693',\n       'CASERATE_11694', 'CASERATE_11697'],\n      dtype='object', length=184)\n(184, 48)\n"
     ]
    }
   ],
   "source": [
    "test = pd.read_csv('covid_data/caserate.csv')\n",
    "print(test.columns)\n",
    "test = test.T\n",
    "test.columns = test.iloc[0]\n",
    "print(test.shape)\n",
    "test = test[7:]\n",
    "test.index = map(lambda x: x.replace(\"CASERATE_\", \"\"), test.index)\n",
    "#print(test.head(10))\n",
    "\n",
    "\n"
   ]
  },
  {
   "cell_type": "code",
   "execution_count": 79,
   "metadata": {
    "tags": []
   },
   "outputs": [
    {
     "output_type": "execute_result",
     "data": {
      "text/plain": [
       "        ZIP  MONTH  DAY  YEAR    PCT\n",
       "0     10001      8    8  2020   7.24\n",
       "1     10001      8   15  2020  14.49\n",
       "2     10001      8   22  2020  10.86\n",
       "3     10001      8   29  2020   7.24\n",
       "4     10001      9    5  2020  32.59\n",
       "...     ...    ...  ...   ...    ...\n",
       "8491  11697      6    5  2021   0.00\n",
       "8492  11697      6   12  2021   0.00\n",
       "8493  11697      6   19  2021   0.00\n",
       "8494  11697      6   26  2021   0.00\n",
       "8495  11697      7    3  2021   0.00\n",
       "\n",
       "[8496 rows x 5 columns]"
      ],
      "text/html": "<div>\n<style scoped>\n    .dataframe tbody tr th:only-of-type {\n        vertical-align: middle;\n    }\n\n    .dataframe tbody tr th {\n        vertical-align: top;\n    }\n\n    .dataframe thead th {\n        text-align: right;\n    }\n</style>\n<table border=\"1\" class=\"dataframe\">\n  <thead>\n    <tr style=\"text-align: right;\">\n      <th></th>\n      <th>ZIP</th>\n      <th>MONTH</th>\n      <th>DAY</th>\n      <th>YEAR</th>\n      <th>PCT</th>\n    </tr>\n  </thead>\n  <tbody>\n    <tr>\n      <th>0</th>\n      <td>10001</td>\n      <td>8</td>\n      <td>8</td>\n      <td>2020</td>\n      <td>7.24</td>\n    </tr>\n    <tr>\n      <th>1</th>\n      <td>10001</td>\n      <td>8</td>\n      <td>15</td>\n      <td>2020</td>\n      <td>14.49</td>\n    </tr>\n    <tr>\n      <th>2</th>\n      <td>10001</td>\n      <td>8</td>\n      <td>22</td>\n      <td>2020</td>\n      <td>10.86</td>\n    </tr>\n    <tr>\n      <th>3</th>\n      <td>10001</td>\n      <td>8</td>\n      <td>29</td>\n      <td>2020</td>\n      <td>7.24</td>\n    </tr>\n    <tr>\n      <th>4</th>\n      <td>10001</td>\n      <td>9</td>\n      <td>5</td>\n      <td>2020</td>\n      <td>32.59</td>\n    </tr>\n    <tr>\n      <th>...</th>\n      <td>...</td>\n      <td>...</td>\n      <td>...</td>\n      <td>...</td>\n      <td>...</td>\n    </tr>\n    <tr>\n      <th>8491</th>\n      <td>11697</td>\n      <td>6</td>\n      <td>5</td>\n      <td>2021</td>\n      <td>0.00</td>\n    </tr>\n    <tr>\n      <th>8492</th>\n      <td>11697</td>\n      <td>6</td>\n      <td>12</td>\n      <td>2021</td>\n      <td>0.00</td>\n    </tr>\n    <tr>\n      <th>8493</th>\n      <td>11697</td>\n      <td>6</td>\n      <td>19</td>\n      <td>2021</td>\n      <td>0.00</td>\n    </tr>\n    <tr>\n      <th>8494</th>\n      <td>11697</td>\n      <td>6</td>\n      <td>26</td>\n      <td>2021</td>\n      <td>0.00</td>\n    </tr>\n    <tr>\n      <th>8495</th>\n      <td>11697</td>\n      <td>7</td>\n      <td>3</td>\n      <td>2021</td>\n      <td>0.00</td>\n    </tr>\n  </tbody>\n</table>\n<p>8496 rows × 5 columns</p>\n</div>"
     },
     "metadata": {},
     "execution_count": 79
    }
   ],
   "source": [
    "df = []\n",
    "for irow, row in test.iterrows():\n",
    "    for icol in range(0, len(row)):\n",
    "        df.append([irow, row.index[icol], row[icol]])\n",
    "\n",
    "df = pd.DataFrame(df)\n",
    "df.columns = [\"ZIP\", \"DATE\", \"PCT\"]\n",
    "df[\"PCT\"] = df[\"PCT\"].astype(float)\n",
    "df[\"MONTH\"] = df[\"DATE\"].str[0:2].astype(int)\n",
    "df[\"DAY\"] = df[\"DATE\"].str[3:5].astype(int)\n",
    "df[\"YEAR\"] = df[\"DATE\"].str[6:].astype(int)\n",
    "\n",
    "final = df[[\"ZIP\", \"MONTH\", \"DAY\", \"YEAR\", \"PCT\"]]\n",
    "final"
   ]
  },
  {
   "cell_type": "code",
   "execution_count": null,
   "metadata": {},
   "outputs": [],
   "source": []
  }
 ]
}